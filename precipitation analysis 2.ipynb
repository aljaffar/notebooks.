{
    "cells": [
        {
            "cell_type": "code",
            "execution_count": 1,
            "metadata": {},
            "outputs": [
                {
                    "name": "stdout",
                    "output_type": "stream",
                    "text": "+-----+----------+-------------+                                    (0 + 1) / 1]\n|state|      date|precipitation|\n+-----+----------+-------------+\n|   BA|31/01/1998|         63.6|\n|   BA|28/02/1998|         55.6|\n|   BA|31/03/1998|        117.2|\n|   BA|30/04/1998|        206.0|\n|   BA|31/05/1998|        250.9|\n+-----+----------+-------------+\nonly showing top 5 rows\n\n"
                },
                {
                    "data": {
                        "text/plain": "configurationName = os_914bc9a7947d477783b6545b6b7768b3_configs\nendpoint_914bc9a7947d477783b6545b6b7768b3 = https://s3.private.eu.cloud-object-storage.appdomain.cloud\ncos = com.ibm.ibmos2spark.CloudObjectStorage@3ff7e2a2\nspark = org.apache.spark.sql.SparkSession@d37191ce\ndfData1 = [state: string, date: string ... 1 more field]\n"
                    },
                    "metadata": {},
                    "output_type": "display_data"
                },
                {
                    "data": {
                        "text/plain": "getCredentials: ()scala.collection.mutable.HashMap[String,String]\n"
                    },
                    "metadata": {},
                    "output_type": "display_data"
                },
                {
                    "data": {
                        "text/plain": "[state: string, date: string ... 1 more field]"
                    },
                    "execution_count": 1,
                    "metadata": {},
                    "output_type": "execute_result"
                }
            ],
            "source": "// The code was removed by Watson Studio for sharing."
        },
        {
            "cell_type": "code",
            "execution_count": null,
            "metadata": {},
            "outputs": [],
            "source": ""
        }
    ],
    "metadata": {
        "kernelspec": {
            "display_name": "Scala 2.12 with Spark",
            "language": "scala",
            "name": "scala"
        },
        "language_info": {
            "codemirror_mode": "text/x-scala",
            "file_extension": ".scala",
            "mimetype": "text/x-scala",
            "name": "scala",
            "pygments_lexer": "scala",
            "version": "2.12.12"
        }
    },
    "nbformat": 4,
    "nbformat_minor": 1
}